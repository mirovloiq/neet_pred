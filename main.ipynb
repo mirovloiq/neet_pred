{
 "cells": [
  {
   "cell_type": "code",
   "execution_count": null,
   "id": "764db44f",
   "metadata": {},
   "outputs": [
    {
     "name": "stdout",
     "output_type": "stream",
     "text": [
      " * Serving Flask app \"__main__\" (lazy loading)\n",
      " * Environment: production\n",
      "   WARNING: This is a development server. Do not use it in a production deployment.\n",
      "   Use a production WSGI server instead.\n",
      " * Debug mode: off\n"
     ]
    },
    {
     "name": "stderr",
     "output_type": "stream",
     "text": [
      " * Running on http://127.0.0.1:5000/ (Press CTRL+C to quit)\n",
      "127.0.0.1 - - [03/Feb/2022 16:21:58] \"\u001b[37mGET / HTTP/1.1\u001b[0m\" 200 -\n",
      "127.0.0.1 - - [03/Feb/2022 16:21:58] \"\u001b[33mGET /css/style.css HTTP/1.1\u001b[0m\" 404 -\n",
      "127.0.0.1 - - [03/Feb/2022 16:22:41] \"\u001b[37mPOST /predict HTTP/1.1\u001b[0m\" 200 -\n",
      "127.0.0.1 - - [03/Feb/2022 16:22:41] \"\u001b[33mGET /css/style.css HTTP/1.1\u001b[0m\" 404 -\n"
     ]
    }
   ],
   "source": [
    "from flask import Flask, request, render_template\n",
    "import pickle\n",
    "\n",
    "app = Flask(__name__)\n",
    "loaded_model = pickle.load(open(\"UZ.sav\", \"rb\"))\n",
    "@app.route('/')\n",
    "def index():\n",
    "    return render_template('UNICEF_ZYPL.html')\n",
    "@app.route('/predict', methods=['POST'])\n",
    "def predict():\n",
    "    if request.method == 'POST':\n",
    "        if(request.form.get('childexist') == \"No 1st child\"):\n",
    "            childexist = 0\n",
    "        if(request.form.get('childexist') == \"1st child exists\"):\n",
    "            childexist = 1\n",
    "        if(request.form.get('Urban') == \"Urban\"):\n",
    "            Urban = 1\n",
    "        else:\n",
    "            Urban = 2\n",
    "        if(request.form.get('isFemale') == \"Male\"):\n",
    "            isFemale = 1\n",
    "        if(request.form.get('isFemale') == \"Female\"):\n",
    "            isFemale = 2\n",
    "        if(request.form.get('BeenAbroad') == \"Yes\"):\n",
    "            BeenAbroad = 1\n",
    "        else:\n",
    "            BeenAbroad = 0\n",
    "        if(request.form.get('edlevel') == \"General education\"):\n",
    "            edlevel = 1\n",
    "        if(request.form.get('edlevel') == \"VET\"):\n",
    "            edlevel = 2\n",
    "        if(request.form.get('edlevel') == \"Tertury\"):\n",
    "            edlevel = 3\n",
    "        if(request.form.get('healthy') == \"Bad\"):\n",
    "            healthy = 0\n",
    "        if(request.form.get('healthy') == \"Very good\"):\n",
    "            healthy = 1\n",
    "        if(request.form.get('fjobexist') == \"No 1st job\"):\n",
    "            fjobexist = 0\n",
    "        if(request.form.get('fjobexist') == \"1st job exists\"):\n",
    "            fjobexist = 1\n",
    "        if(request.form.get('married') == \"Single, never married and never cohabitated\"):\n",
    "            married = 0\n",
    "        if(request.form.get('married') == \"Married\"):\n",
    "            married = 1\n",
    "        q1 = int(childexist)\n",
    "        q2 = int(Urban)\n",
    "        q3 = int(isFemale)\n",
    "        q4 = int(BeenAbroad)\n",
    "        q5 = int(edlevel)\n",
    "        q8 = int(healthy)\n",
    "        q9 = int(request.form.get('ageYr'))\n",
    "        q10 = int(fjobexist)\n",
    "        q11 = int(married)\n",
    "\n",
    "        result = [q1, q2, q3, q4, q5, q8, q9, q10, q11]\n",
    "        pr = loaded_model.predict([result])\n",
    "        if(pr == 0):\n",
    "            result = \"Работает\"\n",
    "        else:\n",
    "            result = \"Не работает\"\n",
    "        \n",
    "    return render_template(\"UNICEF_ZYPL.html\", result_text = result)\n",
    "\n",
    "\n",
    "if __name__ == \"__main__\":\n",
    "    \n",
    "    app.run()\n"
   ]
  },
  {
   "cell_type": "code",
   "execution_count": null,
   "id": "2f589406",
   "metadata": {},
   "outputs": [],
   "source": []
  }
 ],
 "metadata": {
  "kernelspec": {
   "display_name": "Python 3",
   "language": "python",
   "name": "python3"
  },
  "language_info": {
   "codemirror_mode": {
    "name": "ipython",
    "version": 3
   },
   "file_extension": ".py",
   "mimetype": "text/x-python",
   "name": "python",
   "nbconvert_exporter": "python",
   "pygments_lexer": "ipython3",
   "version": "3.8.8"
  }
 },
 "nbformat": 4,
 "nbformat_minor": 5
}
